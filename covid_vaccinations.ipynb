{
 "cells": [
  {
   "cell_type": "markdown",
   "metadata": {},
   "source": [
    "# Analysis of Covid Vaccinations Dataset"
   ]
  },
  {
   "cell_type": "markdown",
   "metadata": {},
   "source": [
    "A work by @NiccolòDiana, MSc Student of Data Science at Bocconi University in Milan.\n",
    "\n",
    "### Descriptions of features\n",
    "<em>country<em> - The countries which are vaccinated\\\n",
    "<em>iso_code<em> - Code which represents the currency of the country\\\n",
    "<em>date<em> - Day of entry\\\n",
    "<em>iso_code<em> - Number of vaccinations made on that day\\\n",
    "<em>totalvaccinated<em> - Total amount of people vaccinated in the country\\\n",
    "<em>people_fully_vaccinated<em> - Number of people in the country who have two vaccinations\\\n",
    "<em>daily_vaccinations<em> - Number of vaccinations on that day\\\n",
    "<em>total_vaccinations_per_hundred<em> - Calculated by (total vaccinated / population) * 100\\\n",
    "<em>people_vaccinated_per_hundred<em> - Calculated by (people vaccinated / population) * 100\\\n",
    "<em>people_fully_vaccinated_per_hundred<em> - Calculated by (people fully vaccinated / population) * 100\\\n",
    "<em>daily_vaccinations_per_million<em> - Calculated by (daily vaccinations / population) * one million\\\n",
    "<em>vaccines<em> - Type of vaccine used\\\n",
    "<em>source_name<em> - Source of informaiton for the vaccines\\\n",
    "<em>source_website<em> - Website for source of informaiton for the vaccines"
   ]
  },
  {
   "cell_type": "markdown",
   "metadata": {},
   "source": [
    "### Import the necessary dependencies"
   ]
  },
  {
   "cell_type": "code",
   "execution_count": 1,
   "metadata": {},
   "outputs": [],
   "source": [
    "import pandas as pd\n",
    "import numpy as np\n",
    "import seaborn as sns"
   ]
  },
  {
   "cell_type": "markdown",
   "metadata": {},
   "source": [
    "Import the dataset \"country_vaccinations.csv\""
   ]
  },
  {
   "cell_type": "code",
   "execution_count": 2,
   "metadata": {},
   "outputs": [
    {
     "data": {
      "text/html": [
       "<div>\n",
       "<style scoped>\n",
       "    .dataframe tbody tr th:only-of-type {\n",
       "        vertical-align: middle;\n",
       "    }\n",
       "\n",
       "    .dataframe tbody tr th {\n",
       "        vertical-align: top;\n",
       "    }\n",
       "\n",
       "    .dataframe thead th {\n",
       "        text-align: right;\n",
       "    }\n",
       "</style>\n",
       "<table border=\"1\" class=\"dataframe\">\n",
       "  <thead>\n",
       "    <tr style=\"text-align: right;\">\n",
       "      <th></th>\n",
       "      <th>country</th>\n",
       "      <th>iso_code</th>\n",
       "      <th>date</th>\n",
       "      <th>total_vaccinations</th>\n",
       "      <th>people_vaccinated</th>\n",
       "      <th>people_fully_vaccinated</th>\n",
       "      <th>daily_vaccinations_raw</th>\n",
       "      <th>daily_vaccinations</th>\n",
       "      <th>total_vaccinations_per_hundred</th>\n",
       "      <th>people_vaccinated_per_hundred</th>\n",
       "      <th>people_fully_vaccinated_per_hundred</th>\n",
       "      <th>daily_vaccinations_per_million</th>\n",
       "      <th>vaccines</th>\n",
       "      <th>source_name</th>\n",
       "      <th>source_website</th>\n",
       "    </tr>\n",
       "  </thead>\n",
       "  <tbody>\n",
       "    <tr>\n",
       "      <th>0</th>\n",
       "      <td>Albania</td>\n",
       "      <td>ALB</td>\n",
       "      <td>2021-01-10</td>\n",
       "      <td>0.0</td>\n",
       "      <td>0.0</td>\n",
       "      <td>NaN</td>\n",
       "      <td>NaN</td>\n",
       "      <td>NaN</td>\n",
       "      <td>0.00</td>\n",
       "      <td>0.00</td>\n",
       "      <td>NaN</td>\n",
       "      <td>NaN</td>\n",
       "      <td>Pfizer/BioNTech</td>\n",
       "      <td>Ministry of Health</td>\n",
       "      <td>https://shendetesia.gov.al/covid19-ministria-e...</td>\n",
       "    </tr>\n",
       "    <tr>\n",
       "      <th>1</th>\n",
       "      <td>Albania</td>\n",
       "      <td>ALB</td>\n",
       "      <td>2021-01-11</td>\n",
       "      <td>NaN</td>\n",
       "      <td>NaN</td>\n",
       "      <td>NaN</td>\n",
       "      <td>NaN</td>\n",
       "      <td>64.0</td>\n",
       "      <td>NaN</td>\n",
       "      <td>NaN</td>\n",
       "      <td>NaN</td>\n",
       "      <td>22.0</td>\n",
       "      <td>Pfizer/BioNTech</td>\n",
       "      <td>Ministry of Health</td>\n",
       "      <td>https://shendetesia.gov.al/covid19-ministria-e...</td>\n",
       "    </tr>\n",
       "    <tr>\n",
       "      <th>2</th>\n",
       "      <td>Albania</td>\n",
       "      <td>ALB</td>\n",
       "      <td>2021-01-12</td>\n",
       "      <td>128.0</td>\n",
       "      <td>128.0</td>\n",
       "      <td>NaN</td>\n",
       "      <td>NaN</td>\n",
       "      <td>64.0</td>\n",
       "      <td>0.00</td>\n",
       "      <td>0.00</td>\n",
       "      <td>NaN</td>\n",
       "      <td>22.0</td>\n",
       "      <td>Pfizer/BioNTech</td>\n",
       "      <td>Ministry of Health</td>\n",
       "      <td>https://shendetesia.gov.al/covid19-ministria-e...</td>\n",
       "    </tr>\n",
       "    <tr>\n",
       "      <th>3</th>\n",
       "      <td>Albania</td>\n",
       "      <td>ALB</td>\n",
       "      <td>2021-01-13</td>\n",
       "      <td>188.0</td>\n",
       "      <td>188.0</td>\n",
       "      <td>NaN</td>\n",
       "      <td>60.0</td>\n",
       "      <td>63.0</td>\n",
       "      <td>0.01</td>\n",
       "      <td>0.01</td>\n",
       "      <td>NaN</td>\n",
       "      <td>22.0</td>\n",
       "      <td>Pfizer/BioNTech</td>\n",
       "      <td>Ministry of Health</td>\n",
       "      <td>https://shendetesia.gov.al/covid19-ministria-e...</td>\n",
       "    </tr>\n",
       "    <tr>\n",
       "      <th>4</th>\n",
       "      <td>Albania</td>\n",
       "      <td>ALB</td>\n",
       "      <td>2021-01-14</td>\n",
       "      <td>266.0</td>\n",
       "      <td>266.0</td>\n",
       "      <td>NaN</td>\n",
       "      <td>78.0</td>\n",
       "      <td>66.0</td>\n",
       "      <td>0.01</td>\n",
       "      <td>0.01</td>\n",
       "      <td>NaN</td>\n",
       "      <td>23.0</td>\n",
       "      <td>Pfizer/BioNTech</td>\n",
       "      <td>Ministry of Health</td>\n",
       "      <td>https://shendetesia.gov.al/covid19-ministria-e...</td>\n",
       "    </tr>\n",
       "  </tbody>\n",
       "</table>\n",
       "</div>"
      ],
      "text/plain": [
       "   country iso_code        date  total_vaccinations  people_vaccinated  \\\n",
       "0  Albania      ALB  2021-01-10                 0.0                0.0   \n",
       "1  Albania      ALB  2021-01-11                 NaN                NaN   \n",
       "2  Albania      ALB  2021-01-12               128.0              128.0   \n",
       "3  Albania      ALB  2021-01-13               188.0              188.0   \n",
       "4  Albania      ALB  2021-01-14               266.0              266.0   \n",
       "\n",
       "   people_fully_vaccinated  daily_vaccinations_raw  daily_vaccinations  \\\n",
       "0                      NaN                     NaN                 NaN   \n",
       "1                      NaN                     NaN                64.0   \n",
       "2                      NaN                     NaN                64.0   \n",
       "3                      NaN                    60.0                63.0   \n",
       "4                      NaN                    78.0                66.0   \n",
       "\n",
       "   total_vaccinations_per_hundred  people_vaccinated_per_hundred  \\\n",
       "0                            0.00                           0.00   \n",
       "1                             NaN                            NaN   \n",
       "2                            0.00                           0.00   \n",
       "3                            0.01                           0.01   \n",
       "4                            0.01                           0.01   \n",
       "\n",
       "   people_fully_vaccinated_per_hundred  daily_vaccinations_per_million  \\\n",
       "0                                  NaN                             NaN   \n",
       "1                                  NaN                            22.0   \n",
       "2                                  NaN                            22.0   \n",
       "3                                  NaN                            22.0   \n",
       "4                                  NaN                            23.0   \n",
       "\n",
       "          vaccines         source_name  \\\n",
       "0  Pfizer/BioNTech  Ministry of Health   \n",
       "1  Pfizer/BioNTech  Ministry of Health   \n",
       "2  Pfizer/BioNTech  Ministry of Health   \n",
       "3  Pfizer/BioNTech  Ministry of Health   \n",
       "4  Pfizer/BioNTech  Ministry of Health   \n",
       "\n",
       "                                      source_website  \n",
       "0  https://shendetesia.gov.al/covid19-ministria-e...  \n",
       "1  https://shendetesia.gov.al/covid19-ministria-e...  \n",
       "2  https://shendetesia.gov.al/covid19-ministria-e...  \n",
       "3  https://shendetesia.gov.al/covid19-ministria-e...  \n",
       "4  https://shendetesia.gov.al/covid19-ministria-e...  "
      ]
     },
     "execution_count": 2,
     "metadata": {},
     "output_type": "execute_result"
    }
   ],
   "source": [
    "df = pd.read_csv('country_vaccinations.csv')\n",
    "df.head()"
   ]
  },
  {
   "cell_type": "markdown",
   "metadata": {},
   "source": [
    "Let me analyze the data it contains, in terms of quantity and type"
   ]
  },
  {
   "cell_type": "code",
   "execution_count": 3,
   "metadata": {},
   "outputs": [
    {
     "name": "stdout",
     "output_type": "stream",
     "text": [
      "<class 'pandas.core.frame.DataFrame'>\n",
      "RangeIndex: 4146 entries, 0 to 4145\n",
      "Data columns (total 15 columns):\n",
      " #   Column                               Non-Null Count  Dtype  \n",
      "---  ------                               --------------  -----  \n",
      " 0   country                              4146 non-null   object \n",
      " 1   iso_code                             3854 non-null   object \n",
      " 2   date                                 4146 non-null   object \n",
      " 3   total_vaccinations                   2719 non-null   float64\n",
      " 4   people_vaccinated                    2307 non-null   float64\n",
      " 5   people_fully_vaccinated              1531 non-null   float64\n",
      " 6   daily_vaccinations_raw               2296 non-null   float64\n",
      " 7   daily_vaccinations                   3997 non-null   float64\n",
      " 8   total_vaccinations_per_hundred       2719 non-null   float64\n",
      " 9   people_vaccinated_per_hundred        2307 non-null   float64\n",
      " 10  people_fully_vaccinated_per_hundred  1531 non-null   float64\n",
      " 11  daily_vaccinations_per_million       3997 non-null   float64\n",
      " 12  vaccines                             4146 non-null   object \n",
      " 13  source_name                          4146 non-null   object \n",
      " 14  source_website                       4146 non-null   object \n",
      "dtypes: float64(9), object(6)\n",
      "memory usage: 486.0+ KB\n"
     ]
    }
   ],
   "source": [
    "df.info()"
   ]
  },
  {
   "cell_type": "markdown",
   "metadata": {},
   "source": [
    "For how many countries do we have the data for? And for which ones?"
   ]
  },
  {
   "cell_type": "code",
   "execution_count": 15,
   "metadata": {
    "scrolled": true
   },
   "outputs": [
    {
     "name": "stdout",
     "output_type": "stream",
     "text": [
      "Number of countries in the dataset : 107\n",
      "Different countries:\n",
      "['Albania' 'Algeria' 'Andorra' 'Anguilla' 'Argentina' 'Australia'\n",
      " 'Austria' 'Azerbaijan' 'Bahrain' 'Bangladesh' 'Barbados' 'Belarus'\n",
      " 'Belgium' 'Bermuda' 'Bolivia' 'Brazil' 'Bulgaria' 'Cambodia' 'Canada'\n",
      " 'Cayman Islands' 'Chile' 'China' 'Colombia' 'Costa Rica' 'Croatia'\n",
      " 'Cyprus' 'Czechia' 'Denmark' 'Dominican Republic' 'Ecuador' 'Egypt'\n",
      " 'El Salvador' 'England' 'Estonia' 'Faeroe Islands' 'Falkland Islands'\n",
      " 'Finland' 'France' 'Germany' 'Gibraltar' 'Greece' 'Greenland' 'Guernsey'\n",
      " 'Guyana' 'Hungary' 'Iceland' 'India' 'Indonesia' 'Iran' 'Ireland'\n",
      " 'Isle of Man' 'Israel' 'Italy' 'Japan' 'Jersey' 'Kuwait' 'Latvia'\n",
      " 'Lebanon' 'Liechtenstein' 'Lithuania' 'Luxembourg' 'Macao' 'Maldives'\n",
      " 'Malta' 'Mauritius' 'Mexico' 'Monaco' 'Morocco' 'Myanmar' 'Nepal'\n",
      " 'Netherlands' 'New Zealand' 'Northern Cyprus' 'Northern Ireland' 'Norway'\n",
      " 'Oman' 'Pakistan' 'Panama' 'Peru' 'Poland' 'Portugal' 'Qatar' 'Romania'\n",
      " 'Russia' 'Saint Helena' 'Saudi Arabia' 'Scotland' 'Senegal' 'Serbia'\n",
      " 'Seychelles' 'Singapore' 'Slovakia' 'Slovenia' 'South Africa' 'Spain'\n",
      " 'Sri Lanka' 'Sweden' 'Switzerland' 'Trinidad and Tobago' 'Turkey'\n",
      " 'Turks and Caicos Islands' 'Ukraine' 'United Arab Emirates'\n",
      " 'United Kingdom' 'United States' 'Wales' 'Zimbabwe']\n"
     ]
    }
   ],
   "source": [
    "print(f'Number of countries in the dataset : {df[\"country\"].unique().shape[0]}')\n",
    "print(f'Different countries:\\n{df[\"country\"].unique()}')"
   ]
  },
  {
   "cell_type": "markdown",
   "metadata": {},
   "source": [
    "Let me check the timeframe in which the data have been recorded"
   ]
  },
  {
   "cell_type": "code",
   "execution_count": 33,
   "metadata": {},
   "outputs": [
    {
     "name": "stdout",
     "output_type": "stream",
     "text": [
      "The registration of this data began on: 2020-12-13 00:00:00\n",
      "The registration of this data ended on: 2021-02-24 00:00:00\n",
      "Therefore it spans 73 days\n"
     ]
    }
   ],
   "source": [
    "df['date'] = pd.to_datetime(df['date'])\n",
    "print(f\"The registration of this data began on: {df['date'].min()}\")\n",
    "print(f\"The registration of this data ended on: {df['date'].max()}\")\n",
    "print(f\"Therefore it spans {(df['date'].max()-df['date'].min()).days} days\")"
   ]
  },
  {
   "cell_type": "markdown",
   "metadata": {},
   "source": [
    "Which countries as of the '2021-02-24' have administered more vaccines in absolute terms?"
   ]
  },
  {
   "cell_type": "code",
   "execution_count": 59,
   "metadata": {},
   "outputs": [
    {
     "data": {
      "text/html": [
       "<div>\n",
       "<style scoped>\n",
       "    .dataframe tbody tr th:only-of-type {\n",
       "        vertical-align: middle;\n",
       "    }\n",
       "\n",
       "    .dataframe tbody tr th {\n",
       "        vertical-align: top;\n",
       "    }\n",
       "\n",
       "    .dataframe thead th {\n",
       "        text-align: right;\n",
       "    }\n",
       "</style>\n",
       "<table border=\"1\" class=\"dataframe\">\n",
       "  <thead>\n",
       "    <tr style=\"text-align: right;\">\n",
       "      <th></th>\n",
       "      <th>country</th>\n",
       "      <th>total_vaccinations</th>\n",
       "    </tr>\n",
       "  </thead>\n",
       "  <tbody>\n",
       "    <tr>\n",
       "      <th>0</th>\n",
       "      <td>United States</td>\n",
       "      <td>1.518341e+09</td>\n",
       "    </tr>\n",
       "    <tr>\n",
       "      <th>1</th>\n",
       "      <td>United Kingdom</td>\n",
       "      <td>4.735748e+08</td>\n",
       "    </tr>\n",
       "    <tr>\n",
       "      <th>2</th>\n",
       "      <td>England</td>\n",
       "      <td>4.048818e+08</td>\n",
       "    </tr>\n",
       "    <tr>\n",
       "      <th>3</th>\n",
       "      <td>Israel</td>\n",
       "      <td>2.442211e+08</td>\n",
       "    </tr>\n",
       "    <tr>\n",
       "      <th>4</th>\n",
       "      <td>India</td>\n",
       "      <td>2.107176e+08</td>\n",
       "    </tr>\n",
       "    <tr>\n",
       "      <th>5</th>\n",
       "      <td>United Arab Emirates</td>\n",
       "      <td>1.587647e+08</td>\n",
       "    </tr>\n",
       "    <tr>\n",
       "      <th>6</th>\n",
       "      <td>China</td>\n",
       "      <td>1.584870e+08</td>\n",
       "    </tr>\n",
       "    <tr>\n",
       "      <th>7</th>\n",
       "      <td>Germany</td>\n",
       "      <td>1.357615e+08</td>\n",
       "    </tr>\n",
       "    <tr>\n",
       "      <th>8</th>\n",
       "      <td>Brazil</td>\n",
       "      <td>1.276648e+08</td>\n",
       "    </tr>\n",
       "    <tr>\n",
       "      <th>9</th>\n",
       "      <td>Turkey</td>\n",
       "      <td>1.218220e+08</td>\n",
       "    </tr>\n",
       "  </tbody>\n",
       "</table>\n",
       "</div>"
      ],
      "text/plain": [
       "                country  total_vaccinations\n",
       "0         United States        1.518341e+09\n",
       "1        United Kingdom        4.735748e+08\n",
       "2               England        4.048818e+08\n",
       "3                Israel        2.442211e+08\n",
       "4                 India        2.107176e+08\n",
       "5  United Arab Emirates        1.587647e+08\n",
       "6                 China        1.584870e+08\n",
       "7               Germany        1.357615e+08\n",
       "8                Brazil        1.276648e+08\n",
       "9                Turkey        1.218220e+08"
      ]
     },
     "execution_count": 59,
     "metadata": {},
     "output_type": "execute_result"
    }
   ],
   "source": [
    "ranked_by_vNum = df[['country','total_vaccinations']].groupby('country').sum().sort_values('total_vaccinations',ascending=False).reset_index()\n",
    "ranked_by_vNum.head(10)"
   ]
  },
  {
   "cell_type": "code",
   "execution_count": 49,
   "metadata": {
    "scrolled": true
   },
   "outputs": [
    {
     "data": {
      "text/plain": [
       "Text(0.5, 1.0, 'Countries by number of vaccines administered')"
      ]
     },
     "execution_count": 49,
     "metadata": {},
     "output_type": "execute_result"
    },
    {
     "data": {
      "image/png": "[encoded data removed]",
      "text/plain": [
       "<Figure size 432x288 with 1 Axes>"
      ]
     },
     "metadata": {
      "needs_background": "light"
     },
     "output_type": "display_data"
    }
   ],
   "source": [
    "sns.barplot(x=\"total_vaccinations\", y=\"country\", data=ranked_by_vNum[:10], palette='Blues_d').set_title('Countries by number of vaccines administered')"
   ]
  },
  {
   "cell_type": "markdown",
   "metadata": {},
   "source": [
    "Let us check which country is the best performing, accounting for the number of people living in it, and taking the average \"daily_vaccinations_per_million\" information."
   ]
  },
  {
   "cell_type": "code",
   "execution_count": null,
   "metadata": {},
   "outputs": [],
   "source": [
    "ranked_by_mvNum = df[['country','daily_vaccinations_per_million']].groupby('country').mean().sort_values('daily_vaccinations_per_million',ascending=False).reset_index()\n",
    "ranked_by_mvNum.head(10)"
   ]
  },
  {
   "cell_type": "markdown",
   "metadata": {},
   "source": [
    "And of course many countries in the list are up there because their population is relatively small when compared to larger countries, which makes for less beaurocratic impediments and faster vaccine administration per million of citizens. Surprisingly, Israel and United Arab Emirates still remain up there."
   ]
  },
  {
   "cell_type": "markdown",
   "metadata": {},
   "source": [
    "Let me now consider the daily vaccinations per million, and make a comparison between the top 15 countries with the greatest absolute number of vaccined individuals."
   ]
  },
  {
   "cell_type": "code",
   "execution_count": 65,
   "metadata": {},
   "outputs": [],
   "source": [
    "top_10_totV = ranked_by_vNum['country'][:10].values"
   ]
  },
  {
   "cell_type": "code",
   "execution_count": 66,
   "metadata": {},
   "outputs": [
    {
     "data": {
      "text/plain": [
       "<AxesSubplot:xlabel='date', ylabel='daily_vaccinations_per_million'>"
      ]
     },
     "execution_count": 66,
     "metadata": {},
     "output_type": "execute_result"
    },
    {
     "data": {
      "image/png": "[encoded data removed]",
      "text/plain": [
       "<Figure size 432x288 with 1 Axes>"
      ]
     },
     "metadata": {
      "needs_background": "light"
     },
     "output_type": "display_data"
    }
   ],
   "source": [
    "sns.lineplot(data=df[df['country'].isin(top_10_totV)], hue='country', x='date', y='daily_vaccinations_per_million')"
   ]
  },
  {
   "cell_type": "markdown",
   "metadata": {},
   "source": [
    "We can graphically see that consistently overtime the most efficient countries in administering the vaccine are Israel and the UAE."
   ]
  },
  {
   "cell_type": "code",
   "execution_count": 68,
   "metadata": {},
   "outputs": [],
   "source": [
    "import geopandas\n",
    "#requires the 'descartes' dependency"
   ]
  },
  {
   "cell_type": "code",
   "execution_count": 69,
   "metadata": {},
   "outputs": [],
   "source": [
    "world = geopandas.read_file(geopandas.datasets.get_path('naturalearth_lowres'))"
   ]
  },
  {
   "cell_type": "code",
   "execution_count": 75,
   "metadata": {},
   "outputs": [],
   "source": [
    "world.head()"
   ]
  },
  {
   "cell_type": "code",
   "execution_count": 76,
   "metadata": {},
   "outputs": [],
   "source": [
    "world_merged = pd.merge(world, df, left_on='iso_a3', right_on='iso_code', how='inner')"
   ]
  },
  {
   "cell_type": "code",
   "execution_count": 90,
   "metadata": {
    "scrolled": true
   },
   "outputs": [
    {
     "data": {
      "image/png": "[encoded data removed]",
      "text/plain": [
       "<Figure size 1080x1080 with 1 Axes>"
      ]
     },
     "metadata": {
      "needs_background": "light"
     },
     "output_type": "display_data"
    }
   ],
   "source": [
    "import matplotlib.pyplot as plt\n",
    "fig, ax = plt.subplots(1, 1, figsize = (15,15))\n",
    "world_merged.plot(column='people_vaccinated_per_hundred', cmap='OrRd', ax=ax)\n",
    "plt.show()"
   ]
  },
  {
   "cell_type": "markdown",
   "metadata": {},
   "source": [
    "As we can see from the picture we see some countries outperforming others when it comes to administering the vaccine, and on the other hand of the spectrum we have other areas, such as Africa and Eastern Asia that are lagging far behind."
   ]
  },
  {
   "cell_type": "markdown",
   "metadata": {},
   "source": [
    "Let me now analyze the distributors of the vaccines, to see whether in the market one prevails upon the others, or simply even who the latest players joining the game are."
   ]
  },
  {
   "cell_type": "code",
   "execution_count": 93,
   "metadata": {},
   "outputs": [
    {
     "data": {
      "text/plain": [
       "['Pfizer/BioNTech',\n",
       " 'Sputnik V',\n",
       " 'Oxford/AstraZeneca',\n",
       " 'Moderna',\n",
       " 'Sinopharm/Beijing',\n",
       " 'Sinovac',\n",
       " 'Sinopharm/Wuhan',\n",
       " 'Covaxin',\n",
       " 'Johnson&Johnson']"
      ]
     },
     "execution_count": 93,
     "metadata": {},
     "output_type": "execute_result"
    }
   ],
   "source": [
    "unique_distributors = list()\n",
    "for i in df['vaccines'].unique():\n",
    "    items = i.split(',')\n",
    "    items_stripped = [i.strip() for i in items]\n",
    "    for i in items_stripped:\n",
    "        if i not in unique_distributors:\n",
    "            unique_distributors.append(i)\n",
    "unique_distributors"
   ]
  },
  {
   "cell_type": "code",
   "execution_count": 102,
   "metadata": {},
   "outputs": [],
   "source": [
    "df[unique_distributors] = 0\n",
    "for dist in unique_distributors:\n",
    "    df.loc[df['vaccines'].str.contains(dist), dist] = 1"
   ]
  },
  {
   "cell_type": "markdown",
   "metadata": {},
   "source": [
    "Let's check how popular the different vaccines were. Specifically let's count in how many countries each vaccine has been used in the timeframe containing our data."
   ]
  },
  {
   "cell_type": "code",
   "execution_count": 122,
   "metadata": {},
   "outputs": [
    {
     "data": {
      "text/plain": [
       "Pfizer/BioNTech       70\n",
       "Oxford/AstraZeneca    54\n",
       "Moderna               28\n",
       "Sinopharm/Beijing     14\n",
       "Sputnik V             11\n",
       "Sinovac                6\n",
       "Sinopharm/Wuhan        2\n",
       "Johnson&Johnson        1\n",
       "Covaxin                1\n",
       "dtype: int64"
      ]
     },
     "execution_count": 122,
     "metadata": {},
     "output_type": "execute_result"
    }
   ],
   "source": [
    "distrs = df[['country']+unique_distributors].groupby('country').any().reset_index()\n",
    "most_popular = distrs[unique_distributors].sum(axis=0).sort_values(ascending=False)\n",
    "most_popular"
   ]
  }
 ],
 "metadata": {
  "kernelspec": {
   "display_name": "Python 3",
   "language": "python",
   "name": "python3"
  },
  "language_info": {
   "codemirror_mode": {
    "name": "ipython",
    "version": 3
   },
   "file_extension": ".py",
   "mimetype": "text/x-python",
   "name": "python",
   "nbconvert_exporter": "python",
   "pygments_lexer": "ipython3",
   "version": "3.7.4"
  }
 },
 "nbformat": 4,
 "nbformat_minor": 1
}
